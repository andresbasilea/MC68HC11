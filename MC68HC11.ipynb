{
  "nbformat": 4,
  "nbformat_minor": 0,
  "metadata": {
    "colab": {
      "name": "MC68HC11.ipynb",
      "provenance": [],
      "toc_visible": true,
      "authorship_tag": "ABX9TyPkuJ0FCPVMtdm22J/n58/3",
      "include_colab_link": true
    },
    "kernelspec": {
      "name": "python3",
      "display_name": "Python 3"
    }
  },
  "cells": [
    {
      "cell_type": "markdown",
      "metadata": {
        "id": "view-in-github",
        "colab_type": "text"
      },
      "source": [
        "<a href=\"https://colab.research.google.com/github/andresbasilea/MC68HC11/blob/main/MC68HC11.ipynb\" target=\"_parent\"><img src=\"https://colab.research.google.com/assets/colab-badge.svg\" alt=\"Open In Colab\"/></a>"
      ]
    },
    {
      "cell_type": "code",
      "metadata": {
        "id": "2KdZvMpUhaM_",
        "outputId": "8ddbdcfb-cf1c-4710-9b64-fde132db805e",
        "colab": {
          "base_uri": "https://localhost:8080/"
        }
      },
      "source": [
        "pip install PyPDF2\n"
      ],
      "execution_count": null,
      "outputs": [
        {
          "output_type": "stream",
          "text": [
            "Requirement already satisfied: PyPDF2 in /usr/local/lib/python3.6/dist-packages (1.26.0)\n"
          ],
          "name": "stdout"
        }
      ]
    },
    {
      "cell_type": "code",
      "metadata": {
        "id": "dkWT6-fMhQjy",
        "outputId": "203f5c55-ee81-46f5-e1d0-12c86a754424",
        "colab": {
          "base_uri": "https://localhost:8080/",
          "height": 350
        }
      },
      "source": [
        "from tkinter import filedialog\n",
        "from tkinter import *\n",
        "import PyPDF2\n",
        "import os\n",
        "from PIL import Image, ImageTk\n",
        "import shutil\n",
        "\n",
        "\n",
        "\n",
        "lista_PDFS = []\n",
        "\n",
        "root = Tk()\n",
        "root.iconbitmap(\"C:\\\\Users\\\\andre\\\\Desktop\\\\Programacion\\\\Python\\\\Python3Nuevo\\\\CombinarPDFsFINAL\\\\JuntarPDFs grafico\\\\klimt.ico\")\n",
        "ancho = 390\n",
        "alto = 630\n",
        "root.title(\"Combinar PDFs Basile\")\n",
        "\n",
        "top = Toplevel()\n",
        "fondo = PhotoImage(file = \"C:\\\\Users\\\\andre\\\\Desktop\\\\Programacion\\\\Python\\\\Python3Nuevo\\\\CombinarPDFsFINAL\\\\JuntarPDFs grafico\\\\fondo2.gif\")\n",
        "fondo_label = Label(top, image = fondo)\n",
        "fondo_label.place(x=0, y=0,relheight = 1, relwidth=1)\n",
        "top.config(bg = 'black',)\n",
        "top.geometry(\"600x450\")\n",
        "top.iconbitmap(\"C:\\\\Users\\\\andre\\\\Desktop\\\\Programacion\\\\Python\\\\Python3Nuevo\\\\CombinarPDFsFINAL\\\\JuntarPDFs grafico\\\\klimt.ico\")\n",
        "top.title(\"Archivos Seleccionados\")\n",
        "\n",
        "\"\"\"scrollbary = Scrollbar(top)\n",
        "scrollbary.pack(side = RIGHT,fill = Y)\n",
        "scrollbarx = Scrollbar(top)\n",
        "scrollbarx.pack(side = BOTTOM, fill= X)\n",
        "\"\"\"\n",
        "\n",
        "\"\"\"\n",
        "AGREGAR EN FUNCION BUSCAR PDF\n",
        "D.config(yscrollcommand=scrollbary.set)\n",
        "\t\t\t\tscrollbary.config(command = D.yview)\n",
        "\t\t\t\tD.config(xscrollcommand=scrollbarx.set)\n",
        "\t\t\t\tscrollbarx.config(command = D.xview)\"\"\"\n",
        "\n",
        "\n",
        "\"\"\"def cambiarTamanio(event):\n",
        "\n",
        "\tnew_width = event.width\n",
        "\tnew_height = event.height\n",
        "\timage = copy_of_image.resize((new_width,new_height))\n",
        "\tphoto = ImageTk.PhotoImage(image)\n",
        "\tlabel.config(image = photo)\n",
        "\tlabel.image = photo\n",
        "\"\"\"\n",
        "\n",
        "w = Canvas(root,width = ancho, height = alto, background = \"black\")\n",
        "image = PhotoImage(file = \"C:\\\\Users\\\\andre\\\\Desktop\\\\\\\\Programacion\\\\Python\\\\Python3Nuevo\\\\CombinarPDFsFINAL\\\\JuntarPDFs grafico\\\\fondo.gif\")\n",
        "#copy_of_image = image.copy()\n",
        "#photo = PhotoImage(image)\n",
        "background_label = Label(root, image=image)\n",
        "#background_label.bind('<Configure>',cambiarTamanio)\n",
        "background_label.place(x=0, y=0, relwidth=1, relheight=1)\n",
        "w.pack()\n",
        "\n",
        "s = Button(root, text = \"Seleccionar archivos\", font = 'Serif', foreground = 'white')\n",
        "s.config(background = 'black')\n",
        "s.pack()\n",
        "s.place(relheight = 0.1, relwidth = 0.5, relx = 0.05 , rely = 0.6)\n",
        "\n",
        "u = Button(root, text = \"Unir PDFs\", font = 'Serif', foreground = 'white')\n",
        "u.config(background = 'black')\n",
        "u.pack()\n",
        "u.place(relheight = 0.1, relwidth = 0.5, relx = 0.05 , rely = 0.75)\n",
        "\n",
        "\n",
        "def buscarPDF():\n",
        "\troot.filename =  filedialog.askopenfilename(initialdir = \"/\",title = \"Select file\",filetypes = ((\"pdf files\",\"*.pdf\"),(\"all files\",\"*.*\")))\n",
        "\tlista_PDFS.append(root.filename)\n",
        "\tD = Listbox(top)\n",
        "\tD.config(bg = 'black', font = 'Serif', fg = 'white', highlightthickness = 0, selectbackground = 'black', width = 55)\n",
        "\ti = 1\n",
        "\tfor x in lista_PDFS:\n",
        "\t\tD.insert(i,x)\n",
        "\t\ti+=1\n",
        "\tD.pack()\n",
        "\tD.place(relx = 0.1, rely = 0.17)\n",
        "\n",
        "def unirPDF():\n",
        "\n",
        "\tpath = \"C:\\\\Users\\\\andre\\\\Desktop\\\\BASILE_PDF\"\n",
        "\n",
        "\ttry:\n",
        "\t\tos.mkdir(path)\n",
        "\texcept OSError:\n",
        "\t\tprint(\"Creation of the directory %s failed\" % path)\n",
        "\telse:\n",
        "\t\tprint(\"Successfully created the directory %s \" % path)\n",
        "\n",
        "\t\n",
        "\tfor x in lista_PDFS:\n",
        "\t\tcopiar = 'C:\\\\Users\\\\andre\\\\Desktop\\\\BASILE_PDF'\n",
        "\t\tshutil.copy(x, copiar)\n",
        "\n",
        "\tpdfFinal = []\n",
        "\n",
        "\tfor archivo in os.listdir(path):\n",
        "\t\tif archivo.endswith('.pdf'):\n",
        "\t\t\tpdfFinal.append(archivo)\n",
        "\n",
        "\tescritor = PyPDF2.PdfFileWriter()\n",
        "\n",
        "\tfor archivo in pdfFinal:\n",
        "\t\tobj = open(path + \"/\" + archivo, 'rb')\n",
        "\t\tlector = PyPDF2.PdfFileReader(obj)\n",
        "\t\tfor numPagina in range(0, lector.numPages):\n",
        "\t\t\tpgo = lector.getPage(numPagina)\n",
        "\t\t\tescritor.addPage(pgo)\n",
        "\n",
        "\tarchivoFinal = open(path + \"/\" + 'PDF_RESULTANTE.pdf','wb')\n",
        "\tescritor.write(archivoFinal)\n",
        "\tarchivoFinal.close()\n",
        "\n",
        "\tprint(\"Se guard[o] el resultado con el nombre PDF_RESULTANTE en la misma carpeta en\"\n",
        "\t\t  \"donde se estaba trabajando\")\n",
        "\n",
        "\n",
        "\n",
        "\n",
        "\n",
        "\t\n",
        "\n",
        "u.config(command = unirPDF)\n",
        "s.config(command = buscarPDF)\n",
        "\n",
        "mainloop()"
      ],
      "execution_count": null,
      "outputs": [
        {
          "output_type": "error",
          "ename": "TclError",
          "evalue": "ignored",
          "traceback": [
            "\u001b[0;31m---------------------------------------------------------------------------\u001b[0m",
            "\u001b[0;31mTclError\u001b[0m                                  Traceback (most recent call last)",
            "\u001b[0;32m<ipython-input-12-2b4dbe477d5a>\u001b[0m in \u001b[0;36m<module>\u001b[0;34m()\u001b[0m\n\u001b[1;32m     10\u001b[0m \u001b[0mlista_PDFS\u001b[0m \u001b[0;34m=\u001b[0m \u001b[0;34m[\u001b[0m\u001b[0;34m]\u001b[0m\u001b[0;34m\u001b[0m\u001b[0;34m\u001b[0m\u001b[0m\n\u001b[1;32m     11\u001b[0m \u001b[0;34m\u001b[0m\u001b[0m\n\u001b[0;32m---> 12\u001b[0;31m \u001b[0mroot\u001b[0m \u001b[0;34m=\u001b[0m \u001b[0mTk\u001b[0m\u001b[0;34m(\u001b[0m\u001b[0;34m)\u001b[0m\u001b[0;34m\u001b[0m\u001b[0;34m\u001b[0m\u001b[0m\n\u001b[0m\u001b[1;32m     13\u001b[0m \u001b[0mroot\u001b[0m\u001b[0;34m.\u001b[0m\u001b[0miconbitmap\u001b[0m\u001b[0;34m(\u001b[0m\u001b[0;34m\"C:\\\\Users\\\\andre\\\\Desktop\\\\Programacion\\\\Python\\\\Python3Nuevo\\\\CombinarPDFsFINAL\\\\JuntarPDFs grafico\\\\klimt.ico\"\u001b[0m\u001b[0;34m)\u001b[0m\u001b[0;34m\u001b[0m\u001b[0;34m\u001b[0m\u001b[0m\n\u001b[1;32m     14\u001b[0m \u001b[0mancho\u001b[0m \u001b[0;34m=\u001b[0m \u001b[0;36m390\u001b[0m\u001b[0;34m\u001b[0m\u001b[0;34m\u001b[0m\u001b[0m\n",
            "\u001b[0;32m/usr/lib/python3.6/tkinter/__init__.py\u001b[0m in \u001b[0;36m__init__\u001b[0;34m(self, screenName, baseName, className, useTk, sync, use)\u001b[0m\n\u001b[1;32m   2021\u001b[0m                 \u001b[0mbaseName\u001b[0m \u001b[0;34m=\u001b[0m \u001b[0mbaseName\u001b[0m \u001b[0;34m+\u001b[0m \u001b[0mext\u001b[0m\u001b[0;34m\u001b[0m\u001b[0;34m\u001b[0m\u001b[0m\n\u001b[1;32m   2022\u001b[0m         \u001b[0minteractive\u001b[0m \u001b[0;34m=\u001b[0m \u001b[0;36m0\u001b[0m\u001b[0;34m\u001b[0m\u001b[0;34m\u001b[0m\u001b[0m\n\u001b[0;32m-> 2023\u001b[0;31m         \u001b[0mself\u001b[0m\u001b[0;34m.\u001b[0m\u001b[0mtk\u001b[0m \u001b[0;34m=\u001b[0m \u001b[0m_tkinter\u001b[0m\u001b[0;34m.\u001b[0m\u001b[0mcreate\u001b[0m\u001b[0;34m(\u001b[0m\u001b[0mscreenName\u001b[0m\u001b[0;34m,\u001b[0m \u001b[0mbaseName\u001b[0m\u001b[0;34m,\u001b[0m \u001b[0mclassName\u001b[0m\u001b[0;34m,\u001b[0m \u001b[0minteractive\u001b[0m\u001b[0;34m,\u001b[0m \u001b[0mwantobjects\u001b[0m\u001b[0;34m,\u001b[0m \u001b[0museTk\u001b[0m\u001b[0;34m,\u001b[0m \u001b[0msync\u001b[0m\u001b[0;34m,\u001b[0m \u001b[0muse\u001b[0m\u001b[0;34m)\u001b[0m\u001b[0;34m\u001b[0m\u001b[0;34m\u001b[0m\u001b[0m\n\u001b[0m\u001b[1;32m   2024\u001b[0m         \u001b[0;32mif\u001b[0m \u001b[0museTk\u001b[0m\u001b[0;34m:\u001b[0m\u001b[0;34m\u001b[0m\u001b[0;34m\u001b[0m\u001b[0m\n\u001b[1;32m   2025\u001b[0m             \u001b[0mself\u001b[0m\u001b[0;34m.\u001b[0m\u001b[0m_loadtk\u001b[0m\u001b[0;34m(\u001b[0m\u001b[0;34m)\u001b[0m\u001b[0;34m\u001b[0m\u001b[0;34m\u001b[0m\u001b[0m\n",
            "\u001b[0;31mTclError\u001b[0m: couldn't connect to display \":0.0\""
          ]
        }
      ]
    },
    {
      "cell_type": "code",
      "metadata": {
        "id": "L0TzoYy1lSmX"
      },
      "source": [
        ""
      ],
      "execution_count": null,
      "outputs": []
    },
    {
      "cell_type": "code",
      "metadata": {
        "id": "Ad01HyWplTXy"
      },
      "source": [
        ""
      ],
      "execution_count": null,
      "outputs": []
    },
    {
      "cell_type": "code",
      "metadata": {
        "id": "vqO2xkcblTg4"
      },
      "source": [
        ""
      ],
      "execution_count": null,
      "outputs": []
    },
    {
      "cell_type": "code",
      "metadata": {
        "id": "b2Iq3QfolTmH"
      },
      "source": [
        ""
      ],
      "execution_count": null,
      "outputs": []
    },
    {
      "cell_type": "code",
      "metadata": {
        "id": "eaGde6lOlTpX"
      },
      "source": [
        ""
      ],
      "execution_count": null,
      "outputs": []
    },
    {
      "cell_type": "code",
      "metadata": {
        "id": "AKac1KlblTsq"
      },
      "source": [
        ""
      ],
      "execution_count": null,
      "outputs": []
    },
    {
      "cell_type": "code",
      "metadata": {
        "id": "XAsc5MdclTv4"
      },
      "source": [
        ""
      ],
      "execution_count": null,
      "outputs": []
    },
    {
      "cell_type": "code",
      "metadata": {
        "id": "zX5sylPklTzN"
      },
      "source": [
        ""
      ],
      "execution_count": null,
      "outputs": []
    }
  ]
}