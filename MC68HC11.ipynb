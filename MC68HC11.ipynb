{
  "nbformat": 4,
  "nbformat_minor": 0,
  "metadata": {
    "colab": {
      "name": "MC68HC11.ipynb",
      "provenance": [],
      "collapsed_sections": [],
      "toc_visible": true,
      "authorship_tag": "ABX9TyPPzCjTV+ITjnW3vUmt4vMx",
      "include_colab_link": true
    },
    "kernelspec": {
      "name": "python3",
      "display_name": "Python 3"
    }
  },
  "cells": [
    {
      "cell_type": "markdown",
      "metadata": {
        "id": "view-in-github",
        "colab_type": "text"
      },
      "source": [
        "<a href=\"https://colab.research.google.com/github/andresbasilea/MC68HC11/blob/main/MC68HC11.ipynb\" target=\"_parent\"><img src=\"https://colab.research.google.com/assets/colab-badge.svg\" alt=\"Open In Colab\"/></a>"
      ]
    },
    {
      "cell_type": "code",
      "metadata": {
        "id": "2KdZvMpUhaM_",
        "outputId": "8ddbdcfb-cf1c-4710-9b64-fde132db805e",
        "colab": {
          "base_uri": "https://localhost:8080/"
        }
      },
      "source": [
        "pip install PyPDF2\n"
      ],
      "execution_count": null,
      "outputs": [
        {
          "output_type": "stream",
          "text": [
            "Requirement already satisfied: PyPDF2 in /usr/local/lib/python3.6/dist-packages (1.26.0)\n"
          ],
          "name": "stdout"
        }
      ]
    },
    {
      "cell_type": "code",
      "metadata": {
        "id": "dkWT6-fMhQjy",
        "outputId": "61331e0e-961f-45ee-ccd0-6a0ea1699a78",
        "colab": {
          "base_uri": "https://localhost:8080/",
          "height": 350
        }
      },
      "source": [
        "#VERSION 1\n",
        "# PERMITE SELECCIONAR UNICAMENTE ARCHIVOS DE TIPO .ASC, LOS GUARDA EN UNA LISTA LLAMADA \"ARCHIVO\" Y ALLI, EN CASO DE QUE NO SE ESCOJA UN NUEVO \n",
        "# ARCHIVO SE SEGUIRA COMPILANDO EL QUE FUE ESCOGIDO PREVIAMENTE. SI NO SE ESCOGE NADA O POR ALGUNA RAZON DEL DESTINO QUE NO SE COMO SUCEDERIA PERO SE ESCOJE\n",
        "# UN ARCHIVO QUE NO SEA .asc ENTONCES ENVIARA UN MENSAJE QUE EL ARCHIVO ES INVALIDO\n",
        "\n",
        "\n",
        "from tkinter import filedialog\n",
        "from tkinter import *\n",
        "import PyPDF2\n",
        "import os\n",
        "from PIL import Image, ImageTk\n",
        "import shutil\n",
        "\n",
        "\n",
        "# VARIABLES Y CONSTANTES GLOBALES\n",
        "archivo = []\n",
        "\n",
        "#CARACTERISTICAS DE VENTANA PRINCIPAL\n",
        "root = Tk()\n",
        "root.iconbitmap(\"C:\\\\Users\\\\andre\\\\Desktop\\\\MC68HC11\\\\COMPILADOR\\\\mc68hc11.ico\")\n",
        "ancho = 684\n",
        "alto = 434\n",
        "root.title(\"Basile-Keller compilador MC68HC11\")\n",
        "root.resizable(0, 0)\n",
        "\n",
        "\n",
        "#\n",
        "#ESTO SE PUEDE ELIMINAR  \n",
        "#\n",
        "# top = Toplevel()\n",
        "# fondo = PhotoImage(file = \"C:\\\\Users\\\\andre\\\\Desktop\\\\Programacion\\\\Python\\\\Python3Nuevo\\\\CombinarPDFsFINAL\\\\JuntarPDFs grafico\\\\fondo2.gif\")\n",
        "# fondo_label = Label(top, image = fondo)\n",
        "# fondo_label.place(x=0, y=0,relheight = 1, relwidth=1)\n",
        "# top.config(bg = 'black',)\n",
        "# top.geometry(\"600x450\")\n",
        "# top.iconbitmap(\"C:\\\\Users\\\\andre\\\\Desktop\\\\Programacion\\\\Python\\\\Python3Nuevo\\\\CombinarPDFsFINAL\\\\JuntarPDFs grafico\\\\klimt.ico\")\n",
        "# top.title(\"Archivos Seleccionados\")\n",
        "\n",
        "\"\"\"scrollbary = Scrollbar(top)\n",
        "scrollbary.pack(side = RIGHT,fill = Y)\n",
        "scrollbarx = Scrollbar(top)\n",
        "scrollbarx.pack(side = BOTTOM, fill= X)\n",
        "\"\"\"\n",
        "\n",
        "\"\"\"\n",
        "AGREGAR EN FUNCION BUSCAR PDF\n",
        "D.config(yscrollcommand=scrollbary.set)\n",
        "\t\t\t\tscrollbary.config(command = D.yview)\n",
        "\t\t\t\tD.config(xscrollcommand=scrollbarx.set)\n",
        "\t\t\t\tscrollbarx.config(command = D.xview)\"\"\"\n",
        "\n",
        "\n",
        "\"\"\"def cambiarTamanio(event):\n",
        "\n",
        "\tnew_width = event.width\n",
        "\tnew_height = event.height\n",
        "\timage = copy_of_image.resize((new_width,new_height))\n",
        "\tphoto = ImageTk.PhotoImage(image)\n",
        "\tlabel.config(image = photo)\n",
        "\tlabel.image = photo\n",
        "\"\"\"\n",
        "#\n",
        "\n",
        "# CARACTERISTICAS DE INTERFAZ GRAFICA\n",
        "w = Canvas(root,width = ancho, height = alto, background = \"black\")\n",
        "image = PhotoImage(file = \"C:\\\\Users\\\\andre\\\\Desktop\\\\\\\\MC68HC11\\\\COMPILADOR\\\\fondo1.gif\")\n",
        "#copy_of_image = image.copy()\n",
        "#photo = PhotoImage(image)\n",
        "background_label = Label(root, image=image)\n",
        "#background_label.bind('<Configure>',cambiarTamanio)\n",
        "background_label.place(x=0, y=0, relwidth=1, relheight=1)\n",
        "w.pack()\n",
        "\n",
        "s = Button(root, text = \"Seleccionar archivo a compilar\", font = ('Montserrat',11), foreground = 'black')\n",
        "s.config(background = 'white')\n",
        "s.pack()\n",
        "s.place(relheight = 0.12, relwidth = 0.4, relx = 0.55 , rely = 0.3)\n",
        "\n",
        "u = Button(root, text = \"Compilar\", font = ('Montserrat',11), foreground = 'black')\n",
        "u.config(background = 'white')\n",
        "u.pack()\n",
        "u.place(relheight = 0.12, relwidth = 0.4, relx = 0.55 , rely = 0.5)\n",
        "# CARACTERISTICAS DE INTERFAZ GRAFICA\n",
        "\n",
        "def buscarArchivo():\n",
        "\troot.filename =  filedialog.askopenfilename(initialdir = \"/\",title = \"Select file\",filetypes = ((\"Ensamblador\",\"*.asc\"),(\"all files\",\"*.*\")))\n",
        "\tif(root.filename==\"\"):\n",
        "\t\tpass\n",
        "\telse:\n",
        "\t\tarchivo.insert(0,root.filename)\n",
        "\t# lista_PDFS.append(root.filename)\n",
        "\t# D = Listbox(top)\n",
        "\t# D.config(bg = 'black', font = 'Serif', fg = 'white', highlightthickness = 0, selectbackground = 'black', width = 55)\n",
        "\t# i = 1\n",
        "\t# for x in lista_PDFS:\n",
        "\t# \tD.insert(i,x)\n",
        "\t# \ti+=1\n",
        "\t# D.pack()\n",
        "\t# D.place(relx = 0.1, rely = 0.17)\n",
        "\n",
        "\n",
        "def compilar():\n",
        "\tif (len(archivo)==0):\n",
        "\t\tprint(\"archivo no escogido bla bla bla \")\n",
        "\telse:\n",
        "\t\tprint(\"aqui estariamos compilando el archivo de nombre \" + archivo[0])\n",
        "\n",
        "# def unirPDF():\n",
        "\n",
        "# \tpath = \"C:\\\\Users\\\\andre\\\\Desktop\\\\BASILE_PDF\"\n",
        "\n",
        "# \ttry:\n",
        "# \t\tos.mkdir(path)\n",
        "# \texcept OSError:\n",
        "# \t\tprint(\"Creation of the directory %s failed\" % path)\n",
        "# \telse:\n",
        "# \t\tprint(\"Successfully created the directory %s \" % path)\n",
        "\n",
        "\t\n",
        "# \tfor x in lista_PDFS:\n",
        "# \t\tcopiar = 'C:\\\\Users\\\\andre\\\\Desktop\\\\BASILE_PDF'\n",
        "# \t\tshutil.copy(x, copiar)\n",
        "\n",
        "# \tpdfFinal = []\n",
        "\n",
        "# \tfor archivo in os.listdir(path):\n",
        "# \t\tif archivo.endswith('.pdf'):\n",
        "# \t\t\tpdfFinal.append(archivo)\n",
        "\n",
        "# \tescritor = PyPDF2.PdfFileWriter()\n",
        "\n",
        "# \tfor archivo in pdfFinal:\n",
        "# \t\tobj = open(path + \"/\" + archivo, 'rb')\n",
        "# \t\tlector = PyPDF2.PdfFileReader(obj)\n",
        "# \t\tfor numPagina in range(0, lector.numPages):\n",
        "# \t\t\tpgo = lector.getPage(numPagina)\n",
        "# \t\t\tescritor.addPage(pgo)\n",
        "\n",
        "# \tarchivoFinal = open(path + \"/\" + 'PDF_RESULTANTE.pdf','wb')\n",
        "# \tescritor.write(archivoFinal)\n",
        "# \tarchivoFinal.close()\n",
        "\n",
        "# \tprint(\"Se guard[o] el resultado con el nombre PDF_RESULTANTE en la misma carpeta en\"\n",
        "# \t\t  \"donde se estaba trabajando\")\n",
        "\n",
        "\n",
        "\n",
        "\n",
        "\n",
        "\t\n",
        "\n",
        "u.config(command = compilar)\n",
        "s.config(command = buscarArchivo)\n",
        "\n",
        "mainloop()"
      ],
      "execution_count": 15,
      "outputs": [
        {
          "output_type": "error",
          "ename": "TclError",
          "evalue": "ignored",
          "traceback": [
            "\u001b[0;31m---------------------------------------------------------------------------\u001b[0m",
            "\u001b[0;31mTclError\u001b[0m                                  Traceback (most recent call last)",
            "\u001b[0;32m<ipython-input-15-1f221f0339c4>\u001b[0m in \u001b[0;36m<module>\u001b[0;34m()\u001b[0m\n\u001b[1;32m      8\u001b[0m \u001b[0;34m\u001b[0m\u001b[0m\n\u001b[1;32m      9\u001b[0m \u001b[0;31m#CARACTERISTICAS DE VENTANA PRINCIPAL\u001b[0m\u001b[0;34m\u001b[0m\u001b[0;34m\u001b[0m\u001b[0;34m\u001b[0m\u001b[0m\n\u001b[0;32m---> 10\u001b[0;31m \u001b[0mroot\u001b[0m \u001b[0;34m=\u001b[0m \u001b[0mTk\u001b[0m\u001b[0;34m(\u001b[0m\u001b[0;34m)\u001b[0m\u001b[0;34m\u001b[0m\u001b[0;34m\u001b[0m\u001b[0m\n\u001b[0m\u001b[1;32m     11\u001b[0m \u001b[0mroot\u001b[0m\u001b[0;34m.\u001b[0m\u001b[0miconbitmap\u001b[0m\u001b[0;34m(\u001b[0m\u001b[0;34m\"C:\\\\Users\\\\andre\\\\Desktop\\\\MC68HC11\\\\COMPILADOR\\\\mc68hc11.ico\"\u001b[0m\u001b[0;34m)\u001b[0m\u001b[0;34m\u001b[0m\u001b[0;34m\u001b[0m\u001b[0m\n\u001b[1;32m     12\u001b[0m \u001b[0mancho\u001b[0m \u001b[0;34m=\u001b[0m \u001b[0;36m684\u001b[0m\u001b[0;34m\u001b[0m\u001b[0;34m\u001b[0m\u001b[0m\n",
            "\u001b[0;32m/usr/lib/python3.6/tkinter/__init__.py\u001b[0m in \u001b[0;36m__init__\u001b[0;34m(self, screenName, baseName, className, useTk, sync, use)\u001b[0m\n\u001b[1;32m   2021\u001b[0m                 \u001b[0mbaseName\u001b[0m \u001b[0;34m=\u001b[0m \u001b[0mbaseName\u001b[0m \u001b[0;34m+\u001b[0m \u001b[0mext\u001b[0m\u001b[0;34m\u001b[0m\u001b[0;34m\u001b[0m\u001b[0m\n\u001b[1;32m   2022\u001b[0m         \u001b[0minteractive\u001b[0m \u001b[0;34m=\u001b[0m \u001b[0;36m0\u001b[0m\u001b[0;34m\u001b[0m\u001b[0;34m\u001b[0m\u001b[0m\n\u001b[0;32m-> 2023\u001b[0;31m         \u001b[0mself\u001b[0m\u001b[0;34m.\u001b[0m\u001b[0mtk\u001b[0m \u001b[0;34m=\u001b[0m \u001b[0m_tkinter\u001b[0m\u001b[0;34m.\u001b[0m\u001b[0mcreate\u001b[0m\u001b[0;34m(\u001b[0m\u001b[0mscreenName\u001b[0m\u001b[0;34m,\u001b[0m \u001b[0mbaseName\u001b[0m\u001b[0;34m,\u001b[0m \u001b[0mclassName\u001b[0m\u001b[0;34m,\u001b[0m \u001b[0minteractive\u001b[0m\u001b[0;34m,\u001b[0m \u001b[0mwantobjects\u001b[0m\u001b[0;34m,\u001b[0m \u001b[0museTk\u001b[0m\u001b[0;34m,\u001b[0m \u001b[0msync\u001b[0m\u001b[0;34m,\u001b[0m \u001b[0muse\u001b[0m\u001b[0;34m)\u001b[0m\u001b[0;34m\u001b[0m\u001b[0;34m\u001b[0m\u001b[0m\n\u001b[0m\u001b[1;32m   2024\u001b[0m         \u001b[0;32mif\u001b[0m \u001b[0museTk\u001b[0m\u001b[0;34m:\u001b[0m\u001b[0;34m\u001b[0m\u001b[0;34m\u001b[0m\u001b[0m\n\u001b[1;32m   2025\u001b[0m             \u001b[0mself\u001b[0m\u001b[0;34m.\u001b[0m\u001b[0m_loadtk\u001b[0m\u001b[0;34m(\u001b[0m\u001b[0;34m)\u001b[0m\u001b[0;34m\u001b[0m\u001b[0;34m\u001b[0m\u001b[0m\n",
            "\u001b[0;31mTclError\u001b[0m: couldn't connect to display \":0.0\""
          ]
        }
      ]
    },
    {
      "cell_type": "code",
      "metadata": {
        "id": "L0TzoYy1lSmX"
      },
      "source": [
        ""
      ],
      "execution_count": null,
      "outputs": []
    },
    {
      "cell_type": "code",
      "metadata": {
        "id": "Ad01HyWplTXy"
      },
      "source": [
        ""
      ],
      "execution_count": null,
      "outputs": []
    },
    {
      "cell_type": "code",
      "metadata": {
        "id": "vqO2xkcblTg4"
      },
      "source": [
        ""
      ],
      "execution_count": null,
      "outputs": []
    },
    {
      "cell_type": "code",
      "metadata": {
        "id": "b2Iq3QfolTmH"
      },
      "source": [
        ""
      ],
      "execution_count": null,
      "outputs": []
    },
    {
      "cell_type": "code",
      "metadata": {
        "id": "eaGde6lOlTpX"
      },
      "source": [
        ""
      ],
      "execution_count": null,
      "outputs": []
    },
    {
      "cell_type": "code",
      "metadata": {
        "id": "AKac1KlblTsq"
      },
      "source": [
        ""
      ],
      "execution_count": null,
      "outputs": []
    },
    {
      "cell_type": "code",
      "metadata": {
        "id": "XAsc5MdclTv4"
      },
      "source": [
        ""
      ],
      "execution_count": null,
      "outputs": []
    },
    {
      "cell_type": "code",
      "metadata": {
        "id": "zX5sylPklTzN"
      },
      "source": [
        ""
      ],
      "execution_count": null,
      "outputs": []
    }
  ]
}